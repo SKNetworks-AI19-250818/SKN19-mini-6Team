{
 "cells": [
  {
   "cell_type": "markdown",
   "id": "e40352bb",
   "metadata": {},
   "source": [
    "### KNN 훈련 및 저장"
   ]
  },
  {
   "cell_type": "code",
   "execution_count": 1,
   "id": "9a9c91bb",
   "metadata": {},
   "outputs": [],
   "source": [
    "import pandas as pd\n",
    "import numpy as np\n",
    "from sklearn.neighbors import NearestNeighbors\n",
    "from sklearn.preprocessing import StandardScaler\n",
    "\n",
    "class StudentImprovementAdvisor:\n",
    "    def __init__(self, df, grade_column='grade', k=10):\n",
    "        \"\"\"\n",
    "        KNN 기반 학생 특성 개선 분석\n",
    "        \n",
    "        Parameters:\n",
    "        df: 학생 데이터프레임 (전처리 완료된 상태)\n",
    "        grade_column: 성적 컬럼명\n",
    "        k: 비교할 유사 학생 수\n",
    "        \"\"\"\n",
    "        self.df = df.copy()\n",
    "        self.grade_column = grade_column\n",
    "        self.k = k\n",
    "        self.scaler = StandardScaler()\n",
    "        \n",
    "        # 컬럼 분류\n",
    "        self.unchangeable_columns = ['fromCity', 'sex', 'age', 'Pedu']  # 바꿀 수 없는 특성\n",
    "        self.decrease_only_columns = ['traveltime', 'freetime', 'goout', 'alc', 'absences']  # 줄이는 것만 권장\n",
    "        self.increase_only_columns = ['studytime']  # 늘리는 것만 권장\n",
    "        self.binary_increase_columns = ['activities', 'internet']  # 이진 데이터, 1로만 권장\n",
    "        \n",
    "        # 성적 컬럼을 제외하고 분석 가능한 특성들만 선택\n",
    "        all_feature_columns = [col for col in df.columns \n",
    "                              if col != grade_column and df[col].dtype in ['int64', 'float64']]\n",
    "        \n",
    "        # 바꿀 수 없는 컬럼은 제외\n",
    "        self.feature_columns = [col for col in all_feature_columns \n",
    "                               if col not in self.unchangeable_columns]\n",
    "        \n",
    "        # 바로 데이터 준비\n",
    "        X = self.df[self.feature_columns].values\n",
    "        self.X_scaled = self.scaler.fit_transform(X)\n",
    "        \n",
    "        # KNN 모델 학습\n",
    "        self.knn = NearestNeighbors(n_neighbors=self.k+1, metric='euclidean')  # +1은 자기 자신 제외용\n",
    "        self.knn.fit(self.X_scaled)\n",
    "        \n",
    "        print(f\"분석 대상 특성: {self.feature_columns}\")\n",
    "        print(f\"성적 컬럼: {grade_column}\")\n",
    "        print(f\"분석 준비 완료: {len(self.df)}명의 학생 데이터\")\n",
    "        \n",
    "    def analyze_student_improvement(self, student_idx):\n",
    "        \"\"\"\n",
    "        특정 학생의 개선점 분석\n",
    "        \n",
    "        Parameters:\n",
    "        student_idx: 분석할 학생의 인덱스 (DataFrame의 index)\n",
    "        \"\"\"\n",
    "        if student_idx not in self.df.index:\n",
    "            print(f\"학생 인덱스 {student_idx}를 찾을 수 없습니다.\")\n",
    "            return None\n",
    "            \n",
    "        # 현재 학생 정보\n",
    "        target_student = self.df.loc[student_idx]\n",
    "        target_grade = target_student[self.grade_column]\n",
    "        target_features = target_student[self.feature_columns]\n",
    "        \n",
    "        print(f\"\\n=== {target_student.get('name', f'학생_{student_idx}')} 분석 ===\")\n",
    "        print(f\"현재 성적: {target_grade}\")\n",
    "        \n",
    "        # 데이터프레임에서 해당 학생의 위치 찾기\n",
    "        df_idx = self.df.index.get_loc(student_idx)\n",
    "        target_scaled = self.X_scaled[df_idx].reshape(1, -1)\n",
    "        \n",
    "        # 유사한 학생들 찾기\n",
    "        distances, indices = self.knn.kneighbors(target_scaled)\n",
    "        \n",
    "        # 자기 자신 제외\n",
    "        similar_indices = indices[0][1:]  # 첫 번째는 자기 자신\n",
    "        similar_distances = distances[0][1:]\n",
    "        \n",
    "        # 유사한 학생들 중 성적이 더 좋은 학생들만 필터링\n",
    "        better_students = []\n",
    "        for idx, dist in zip(similar_indices, similar_distances):\n",
    "            actual_idx = self.df.index[idx]  # DataFrame의 실제 인덱스\n",
    "            similar_student = self.df.iloc[idx]\n",
    "            if similar_student[self.grade_column] > target_grade:\n",
    "                better_students.append({\n",
    "                    'index': actual_idx,\n",
    "                    'data': similar_student,\n",
    "                    'distance': dist\n",
    "                })\n",
    "        \n",
    "        if not better_students:\n",
    "            print(\"유사한 특성을 가진 성적 상위 학생을 찾을 수 없습니다.\")\n",
    "            print(\"더 넓은 범위(k 값 증가)로 다시 분석해보세요.\")\n",
    "            return None\n",
    "            \n",
    "        # 성적이 더 좋은 유사 학생들의 평균 특성 계산\n",
    "        better_df = pd.DataFrame([student['data'] for student in better_students])\n",
    "        avg_better_features = better_df[self.feature_columns].mean()\n",
    "        avg_better_grade = better_df[self.grade_column].mean()\n",
    "        \n",
    "        print(f\"\\n성적 상위 유사 학생 {len(better_students)}명 (평균 성적: {avg_better_grade:.1f})\")\n",
    "        \n",
    "        # 개선점 분석 (컬럼별 제약사항 적용)\n",
    "        improvements = {}\n",
    "        valid_improvements = {}  # 실제 권장할 수 있는 개선사항만\n",
    "        \n",
    "        for feature in self.feature_columns:\n",
    "            current_value = target_features[feature]\n",
    "            better_avg = avg_better_features[feature]\n",
    "            difference = better_avg - current_value\n",
    "            improvement_ratio = (difference / current_value * 100) if current_value != 0 else 0\n",
    "            \n",
    "            improvements[feature] = {\n",
    "                'current': current_value,\n",
    "                'target_avg': better_avg,\n",
    "                'difference': difference,\n",
    "                'improvement_ratio': improvement_ratio\n",
    "            }\n",
    "            \n",
    "            # 컬럼별 제약사항 확인\n",
    "            should_recommend = False\n",
    "            recommendation_type = \"\"\n",
    "            \n",
    "            if feature in self.decrease_only_columns:\n",
    "                if difference < 0:  # 줄여야 하는 경우만 권장\n",
    "                    should_recommend = True\n",
    "                    recommendation_type = \"감소\"\n",
    "            elif feature in self.increase_only_columns:\n",
    "                if difference > 0:  # 늘려야 하는 경우만 권장\n",
    "                    should_recommend = True\n",
    "                    recommendation_type = \"증가\"\n",
    "            elif feature in self.binary_increase_columns:\n",
    "                if current_value == 0 and better_avg > 0.5:  # 현재 0이고 상위학생들이 주로 1인 경우\n",
    "                    should_recommend = True\n",
    "                    recommendation_type = \"참여\"\n",
    "            else:  # 일반 특성 (Pedu 등)\n",
    "                if abs(difference) > 0.1:  # 의미있는 차이가 있는 경우\n",
    "                    should_recommend = True\n",
    "                    recommendation_type = \"증가\" if difference > 0 else \"감소\"\n",
    "            \n",
    "            if should_recommend:\n",
    "                improvements[feature]['recommendation_type'] = recommendation_type\n",
    "                valid_improvements[feature] = improvements[feature]\n",
    "        \n",
    "        # 개선 우선순위 (유효한 개선사항만, 개선 비율 기준)\n",
    "        sorted_improvements = sorted(valid_improvements.items(), \n",
    "                                   key=lambda x: abs(x[1]['improvement_ratio']), \n",
    "                                   reverse=True)\n",
    "        \n",
    "        print(f\"\\n📈 개선 권장사항 (우선순위 순):\")\n",
    "        print(\"=\"*60)\n",
    "        \n",
    "        if not sorted_improvements:\n",
    "            print(\"현재 상태가 이미 우수하거나 개선 가능한 특성이 없습니다!\")\n",
    "        else:\n",
    "            for i, (feature, data) in enumerate(sorted_improvements, 1):\n",
    "                rec_type = data['recommendation_type']\n",
    "                \n",
    "                print(f\"{i}. {feature} ({rec_type})\")\n",
    "                print(f\"   현재: {data['current']:.1f}\")\n",
    "                \n",
    "                if feature in self.binary_increase_columns:\n",
    "                    if data['current'] == 0:\n",
    "                        print(f\"   권장: 참여하세요!\")\n",
    "                    else:\n",
    "                        print(f\"   권장: 계속 참여하세요!\")\n",
    "                elif rec_type == \"감소\":\n",
    "                    print(f\"   목표: {data['target_avg']:.1f} (현재보다 {abs(data['difference']):.1f} 감소)\")\n",
    "                elif rec_type == \"증가\":\n",
    "                    print(f\"   목표: {data['target_avg']:.1f} (현재보다 {data['difference']:.1f} 증가)\")\n",
    "                \n",
    "                print(f\"   개선 필요도: {abs(data['improvement_ratio']):.1f}%\")\n",
    "                print()\n",
    "        \n",
    "        return {\n",
    "            'target_student': target_student,\n",
    "            'better_students': better_students,\n",
    "            'improvements': improvements,\n",
    "            'sorted_improvements': sorted_improvements\n",
    "        }\n",
    "    "
   ]
  },
  {
   "cell_type": "code",
   "execution_count": 3,
   "id": "63d3a74e",
   "metadata": {},
   "outputs": [
    {
     "name": "stdout",
     "output_type": "stream",
     "text": [
      "분석 대상 특성: ['traveltime', 'studytime', 'activities', 'internet', 'freetime', 'goout', 'alc', 'absences']\n",
      "성적 컬럼: grade\n",
      "분석 준비 완료: 315명의 학생 데이터\n",
      "\n",
      "=== 학생_50 분석 ===\n",
      "현재 성적: 12.666666666666666\n",
      "\n",
      "성적 상위 유사 학생 10명 (평균 성적: 14.7)\n",
      "\n",
      "📈 개선 권장사항 (우선순위 순):\n",
      "============================================================\n",
      "1. alc (감소)\n",
      "   현재: 2.5\n",
      "   목표: 1.5 (현재보다 1.0 감소)\n",
      "   개선 필요도: 40.0%\n",
      "\n",
      "2. traveltime (감소)\n",
      "   현재: 3.0\n",
      "   목표: 2.2 (현재보다 0.8 감소)\n",
      "   개선 필요도: 26.7%\n",
      "\n",
      "3. studytime (증가)\n",
      "   현재: 2.0\n",
      "   목표: 2.1 (현재보다 0.1 증가)\n",
      "   개선 필요도: 5.0%\n",
      "\n",
      "4. goout (감소)\n",
      "   현재: 3.0\n",
      "   목표: 2.9 (현재보다 0.1 감소)\n",
      "   개선 필요도: 3.3%\n",
      "\n"
     ]
    }
   ],
   "source": [
    "df = pd.DataFrame(pd.read_csv('../data/fkillerML_data.csv'))\n",
    "\n",
    "# 1. 분석기 초기화 (바로 분석 준비 완료)\n",
    "advisor = StudentImprovementAdvisor(df, grade_column='grade', k=30)\n",
    "\n",
    "# 2. 특정 학생 분석 (예: 인덱스 0인 학생)\n",
    "result = advisor.analyze_student_improvement(50)"
   ]
  },
  {
   "cell_type": "code",
   "execution_count": 4,
   "id": "88eb394d",
   "metadata": {},
   "outputs": [
    {
     "data": {
      "text/plain": [
       "(dict_keys(['target_student', 'better_students', 'improvements', 'sorted_improvements']),\n",
       " [('alc',\n",
       "   {'current': np.float64(2.5),\n",
       "    'target_avg': np.float64(1.5),\n",
       "    'difference': np.float64(-1.0),\n",
       "    'improvement_ratio': np.float64(-40.0),\n",
       "    'recommendation_type': '감소'}),\n",
       "  ('traveltime',\n",
       "   {'current': np.float64(3.0),\n",
       "    'target_avg': np.float64(2.2),\n",
       "    'difference': np.float64(-0.7999999999999998),\n",
       "    'improvement_ratio': np.float64(-26.66666666666666),\n",
       "    'recommendation_type': '감소'}),\n",
       "  ('studytime',\n",
       "   {'current': np.float64(2.0),\n",
       "    'target_avg': np.float64(2.1),\n",
       "    'difference': np.float64(0.10000000000000009),\n",
       "    'improvement_ratio': np.float64(5.000000000000004),\n",
       "    'recommendation_type': '증가'}),\n",
       "  ('goout',\n",
       "   {'current': np.float64(3.0),\n",
       "    'target_avg': np.float64(2.9),\n",
       "    'difference': np.float64(-0.10000000000000009),\n",
       "    'improvement_ratio': np.float64(-3.333333333333336),\n",
       "    'recommendation_type': '감소'})])"
      ]
     },
     "execution_count": 4,
     "metadata": {},
     "output_type": "execute_result"
    }
   ],
   "source": [
    "result.keys(), result['sorted_improvements']"
   ]
  },
  {
   "cell_type": "code",
   "execution_count": 5,
   "id": "5ee6ea90",
   "metadata": {},
   "outputs": [
    {
     "data": {
      "text/plain": [
       "Index(['fromCity', 'sex', 'age', 'Pedu', 'traveltime', 'studytime',\n",
       "       'activities', 'internet', 'freetime', 'goout', 'alc', 'absences',\n",
       "       'grade'],\n",
       "      dtype='object')"
      ]
     },
     "execution_count": 5,
     "metadata": {},
     "output_type": "execute_result"
    }
   ],
   "source": [
    "df.columns"
   ]
  },
  {
   "cell_type": "code",
   "execution_count": 8,
   "id": "aa12f3f2",
   "metadata": {},
   "outputs": [
    {
     "data": {
      "text/plain": [
       "['traveltime',\n",
       " 'studytime',\n",
       " 'activities',\n",
       " 'internet',\n",
       " 'freetime',\n",
       " 'goout',\n",
       " 'alc',\n",
       " 'absences']"
      ]
     },
     "execution_count": 8,
     "metadata": {},
     "output_type": "execute_result"
    }
   ],
   "source": [
    "advisor.feature_columns"
   ]
  },
  {
   "cell_type": "markdown",
   "id": "b77510a9",
   "metadata": {},
   "source": [
    "### 훈련된 KNN 저장"
   ]
  },
  {
   "cell_type": "code",
   "execution_count": null,
   "id": "fe0abeeb",
   "metadata": {},
   "outputs": [
    {
     "data": {
      "text/plain": [
       "['knn_model_v1.0.0.pkl']"
      ]
     },
     "execution_count": 6,
     "metadata": {},
     "output_type": "execute_result"
    }
   ],
   "source": [
    "import joblib\n",
    "\n",
    "# 저장\n",
    "joblib.dump(advisor.knn, \"knn_model_v1.0.0.pkl\")"
   ]
  },
  {
   "cell_type": "markdown",
   "id": "5ff5b4d2",
   "metadata": {},
   "source": [
    "### Scaler 저장"
   ]
  },
  {
   "cell_type": "code",
   "execution_count": 7,
   "id": "1209a1cd",
   "metadata": {},
   "outputs": [
    {
     "data": {
      "text/plain": [
       "['scaler.pkl']"
      ]
     },
     "execution_count": 7,
     "metadata": {},
     "output_type": "execute_result"
    }
   ],
   "source": [
    "import joblib\n",
    "\n",
    "joblib.dump(advisor.scaler, \"scaler.pkl\")"
   ]
  }
 ],
 "metadata": {
  "kernelspec": {
   "display_name": "ml_env",
   "language": "python",
   "name": "python3"
  },
  "language_info": {
   "codemirror_mode": {
    "name": "ipython",
    "version": 3
   },
   "file_extension": ".py",
   "mimetype": "text/x-python",
   "name": "python",
   "nbconvert_exporter": "python",
   "pygments_lexer": "ipython3",
   "version": "3.12.11"
  }
 },
 "nbformat": 4,
 "nbformat_minor": 5
}
